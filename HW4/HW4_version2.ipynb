{
 "cells": [
  {
   "cell_type": "code",
   "execution_count": 1,
   "metadata": {
    "collapsed": true
   },
   "outputs": [],
   "source": [
    "%matplotlib inline\n",
    "import matplotlib.pyplot as plt\n",
    "import cv2\n",
    "import numpy as np\n",
    "import os\n",
    "import glob\n",
    "import time\n",
    "from sklearn.metrics import accuracy_score\n",
    "# np.random.seed(30)"
   ]
  },
  {
   "cell_type": "code",
   "execution_count": 2,
   "metadata": {
    "collapsed": true
   },
   "outputs": [],
   "source": [
    "# mapping categories to integers\n",
    "category_dict = {'Forest':0, 'Bedroom':1, 'Office':2, 'Highway':3, 'Coast':4, 'InsideCity':5,\n",
    "               'TallBuilding':6, 'Industrial':7, 'Street':8, 'LivingRoom':9, 'Suburb':10,\n",
    "               'Mountain':11, 'Kitchen':12, 'OpenCountry':13, 'Store':14}"
   ]
  },
  {
   "cell_type": "code",
   "execution_count": 3,
   "metadata": {
    "collapsed": true
   },
   "outputs": [],
   "source": [
    "def load_imgs(path, resize_small=False):\n",
    "    start = time.time()\n",
    "    global category_dict\n",
    "    join_path = os.path.join(path, '*')\n",
    "    class_path = glob.glob(join_path, recursive=True)\n",
    "    cls = [path.split('/')[-1] for path in class_path]\n",
    "    \n",
    "    cls_path = []  # get the path of the images for all classes\n",
    "\n",
    "    for c in cls:\n",
    "        cls_path.append(glob.glob(os.path.join(path, c, '*.jpg'), recursive=True))\n",
    "    \n",
    "    imgs = []\n",
    "    labels = []\n",
    "    cls_names = []\n",
    "    \n",
    "    for cls_p in cls_path:\n",
    "        img = []\n",
    "        cls_name = cls_p[0].split('/')[-2]\n",
    "        cls_names += [cls_name] * len(cls_p)\n",
    "        labels += [category_dict[cls_name]] * len(cls_p)\n",
    "        for img_path in cls_p:\n",
    "            tmp_img = cv2.imread(img_path, 0)\n",
    "            (h,w) = tmp_img.shape[:2]\n",
    "            if(h>w):\n",
    "                tmp_img= tmp_img[int(h/2)-int(w/2):int(h/2)+int(w/2),:]\n",
    "            elif(h<w):\n",
    "                tmp_img= tmp_img[:,int(w/2)-int(h/2):int(w/2)+int(h/2)]\n",
    "            else:   \n",
    "                tmp_img=tmp_img\n",
    "            \n",
    "                \n",
    "            if resize_small:\n",
    "                tmp_img = cv2.resize(tmp_img, dsize=(16, 16))\n",
    "            else:\n",
    "                tmp_img = cv2.resize(tmp_img, dsize=(256, 256))  # resize to equal-size\n",
    "            img.append(tmp_img.flatten())\n",
    "        imgs += img\n",
    "        \n",
    "    \n",
    "    end = time.time()\n",
    "    print(\"It takes\", end-start, \"seconds to load the images.\")\n",
    "    \n",
    "    return np.array(imgs).astype(np.float32), np.array(labels).astype(np.float32).reshape(-1, 1), np.array(cls_names)\n"
   ]
  },
  {
   "cell_type": "code",
   "execution_count": 4,
   "metadata": {
    "collapsed": true
   },
   "outputs": [],
   "source": [
    "def show_img(X, cls, cls_num=15, size=16, nrows=3, ncols=5):\n",
    "    fig, ax = plt.subplots(nrows=nrows, ncols=ncols, figsize=(8, 8))\n",
    "    for i in range(cls_num):\n",
    "        x = i // ncols\n",
    "        y = i % ncols\n",
    "        ax[x][y].set_title(cls[i])\n",
    "        ax[x][y].imshow(X[i].reshape(size, size), cmap='gray')\n",
    "\n",
    "    plt.tight_layout()\n",
    "    plt.subplots_adjust(hspace=-0.6)"
   ]
  },
  {
   "cell_type": "code",
   "execution_count": 5,
   "metadata": {
    "collapsed": true
   },
   "outputs": [],
   "source": [
    "def shuffle_data(X, y, cls=None):\n",
    "    \"\"\"\n",
    "    Shuffle X, y together.\n",
    "    \"\"\"\n",
    "    p = np.random.permutation(len(X))\n",
    "    \n",
    "    if cls is None:\n",
    "        return X[p], y[p]\n",
    "    else:\n",
    "        return X[p], y[p], cls[p]"
   ]
  },
  {
   "cell_type": "code",
   "execution_count": 6,
   "metadata": {
    "collapsed": true
   },
   "outputs": [],
   "source": [
    "def predict(X_train, y_train, x_test, k):\n",
    "    # create list for distances and targets\n",
    "    distances = []\n",
    "    targets = []\n",
    "\n",
    "    for i in range(len(X_train)):\n",
    "        # first we compute the euclidean distance\n",
    "        distance = np.sqrt(np.sum(np.square(x_test - X_train[i, :])))\n",
    "        # add it to list of distances\n",
    "        distances.append([distance, i])\n",
    "\n",
    "    # sort the list\n",
    "    distances = sorted(distances)\n",
    "    # make a list of the k neighbors' targets\n",
    "    for i in range(k):\n",
    "        index = distances[i][1]\n",
    "        targets.append(int(y_train[index]))\n",
    "    result = np.bincount(targets).argmax()\n",
    "\n",
    "    # return most common target\n",
    "    return result \n",
    "\n",
    "\n",
    "def kNearestNeighbor(X_train, y_train, X_test, predictions, k):\n",
    "    # check if k larger than n\n",
    "    if k > len(X_train):\n",
    "        raise ValueError\n",
    "\n",
    "    # predict for each testing observation\n",
    "    for i in range(len(X_test)):\n",
    "        predictions.append(predict(X_train, y_train, X_test[i, :], k))\n",
    "\n",
    "def get_best_k(X_train, y_train, X_test, y_test):\n",
    "    accs=[]\n",
    "    for i in range(1, 50):\n",
    "        predictions = []\n",
    "        try:\n",
    "            kNearestNeighbor(X_train, y_train, X_test, predictions, k=i)\n",
    "            predictions = np.asarray(predictions).reshape(-1, 1)\n",
    "            # evaluating accuracy\n",
    "            accs.append((y_test == predictions).mean() * 100)\n",
    "\n",
    "        except ValueError:\n",
    "            print('Can\\'t have more neighbors than training samples!!')\n",
    "\n",
    "    best_k = np.argmax(np.array(accs))\n",
    "    print('best k:', best_k + 1, ', acc:', accs[best_k])\n",
    "    plt.plot(range(1, 50), accs)\n",
    "    plt.title(\"Nearest neighbor number v.s. accuracy\")\n",
    "    plt.xlabel(\"Nearest Neighbor Number (K)\")\n",
    "    plt.ylabel(\"Accuracy (%)\")\n",
    "    plt.show()"
   ]
  },
  {
   "cell_type": "markdown",
   "metadata": {},
   "source": [
    "## Tiny image representation + nearest neighbor classifier\n",
    "- ref: [knn opencv](https://docs.opencv.org/3.4/d5/d26/tutorial_py_knn_understanding.html)"
   ]
  },
  {
   "cell_type": "code",
   "execution_count": 7,
   "metadata": {},
   "outputs": [
    {
     "name": "stdout",
     "output_type": "stream",
     "text": [
      "It takes 1.967472791671753 seconds to load the images.\n",
      "It takes 0.20250606536865234 seconds to load the images.\n"
     ]
    },
    {
     "data": {
      "image/png": "[encoded data removed]",
      "text/plain": [
       "<Figure size 576x576 with 15 Axes>"
      ]
     },
     "metadata": {},
     "output_type": "display_data"
    }
   ],
   "source": [
    "resize_small = True\n",
    "X_train, y_train, cls_train = load_imgs('./data/train', resize_small=resize_small)\n",
    "X_test, y_test, cls_test = load_imgs('./data/test', resize_small=resize_small)\n",
    "# X_train, y_train, cls_train = shuffle_data(X_train, y_train, cls_train)\n",
    "if resize_small:\n",
    "    show_img(X_train, cls_train, size=16)\n",
    "else:\n",
    "    show_img(X_train, cls_train, size=256)"
   ]
  },
  {
   "cell_type": "code",
   "execution_count": 8,
   "metadata": {},
   "outputs": [
    {
     "name": "stdout",
     "output_type": "stream",
     "text": [
      "best k: 1 , acc: 18.0\n"
     ]
    },
    {
     "data": {
      "image/png": "[encoded data removed]",
      "text/plain": [
       "<Figure size 432x288 with 1 Axes>"
      ]
     },
     "metadata": {},
     "output_type": "display_data"
    }
   ],
   "source": [
    "get_best_k(X_train, y_train, X_test, y_test)"
   ]
  },
  {
   "cell_type": "markdown",
   "metadata": {},
   "source": [
    "## Bag of SIFT representation + nearest neighbor classifier\n",
    "ref:\n",
    "- [bow_github](https://github.com/techfort/pycv/blob/master/chapter7/bow.py)\n",
    "- [bow_tutorial](http://www.morethantechnical.com/2011/08/25/a-simple-object-classifier-with-bag-of-words-using-opencv-2-3-w-code/)\n",
    "- [gilscv_blog: BOW algorithm](https://gilscvblog.com/2013/08/23/bag-of-words-models-for-visual-categorization/)\n",
    "- [kmeans clustering from scratch using python](http://madhugnadig.com/articles/machine-learning/2017/03/04/implementing-k-means-clustering-from-scratch-in-python.html)"
   ]
  },
  {
   "cell_type": "markdown",
   "metadata": {},
   "source": [
    "## Bag of SIFT representation + linear SVM classifier"
   ]
  },
  {
   "cell_type": "code",
   "execution_count": 9,
   "metadata": {
    "collapsed": true
   },
   "outputs": [],
   "source": [
    "import sys\n",
    "sys.path.insert(0, \"./libsvm/python\")\n",
    "from svmutil import *"
   ]
  },
  {
   "cell_type": "code",
   "execution_count": 10,
   "metadata": {
    "collapsed": true
   },
   "outputs": [],
   "source": [
    "def transform_format(X, y, filename):\n",
    "    \"\"\"\n",
    "    Transform the format of data into libsvm-acceptable format.\n",
    "    Data format: file\n",
    "        <label> <index1>:<value1> <index2>:<value2> ...\n",
    "        Each line contains an instance and is ended by a '\\n' character.\n",
    "    \"\"\"\n",
    "    y_unique = np.unique(y).astype(int)\n",
    "    with open(filename, 'w') as f:\n",
    "        for n in range(X.shape[0]):\n",
    "            f.write(str(int(y[n])))  # label\n",
    "            for d in range(X.shape[1]):\n",
    "                f.write(' ' + str(d+1) + ':' + str(X[n][d]))\n",
    "            f.write('\\n')"
   ]
  },
  {
   "cell_type": "code",
   "execution_count": 11,
   "metadata": {
    "collapsed": true
   },
   "outputs": [],
   "source": [
    "def svm(X_train, y_train, X_test, y_test, param):\n",
    "    transform_format(X_train, y_train, 'train.txt')\n",
    "    transform_format(X_test, y_test, 'test.txt')\n",
    "    y_train, X_train = svm_read_problem('./train.txt')\n",
    "    y_test, X_test = svm_read_problem('./test.txt')\n",
    "                     \n",
    "    m = svm_train(y_train, X_train, param)  # get the model of svm\n",
    "    p_label, p_acc, p_val = svm_predict(y_test, X_test, m)"
   ]
  },
  {
   "cell_type": "code",
   "execution_count": 12,
   "metadata": {
    "collapsed": true
   },
   "outputs": [],
   "source": [
    "# https://docs.opencv.org/2.4/modules/features2d/doc/object_categorization.html\n",
    "class BOWImgDescriptorExtractor:\n",
    "    \"\"\"\n",
    "    BOWImgDescriptorExtractor: Compute an image descriptor using the bag of visual words.\n",
    "    \"\"\"\n",
    "    def __init__(self, dextractor, dmatcher):\n",
    "        self.dextractor = dextractor\n",
    "        self.dmatcher = dmatcher\n",
    "        self.vocabulary = None\n",
    "        self.desSize = 0\n",
    "        self.desType = None\n",
    "    \n",
    "    def setVocabulary(self, vocabulary):\n",
    "        self.vocabulary = vocabulary\n",
    "    \n",
    "    def getVocabulary(self):\n",
    "        return self.vocabulary\n",
    "    \n",
    "    def compute(self, img, kp):\n",
    "        # Computes an image descriptor using the set visual vocabulary.\n",
    "        if self.vocabulary is None:\n",
    "            print('Hasn\\'t set the vocabulary yet.')\n",
    "            return\n",
    "        des = self.dextractor.compute(img, kp)[1]\n",
    "        self.desSize = des.shape[0]\n",
    "        self.desType = type(des)\n",
    "\n",
    "        # For each descriptor, compute its the nearest neighbor.\n",
    "        # Build a histogram of length k where the i’th value is the frequency of the i’th dictionary word.\n",
    "        histogram = np.zeros(self.vocabulary.shape[0])\n",
    "        for d in des:\n",
    "            distance = [np.sqrt(np.sum((d-v)**2)) for v in self.vocabulary]\n",
    "            argmin = np.argmin(distance)\n",
    "            histogram[argmin] += 1\n",
    "        \n",
    "        # do normalization\n",
    "        histogram = histogram / len(histogram)\n",
    "        \n",
    "        return histogram\n",
    "    \n",
    "    def descriptorSize(self):\n",
    "        return self.desSize\n",
    "\n",
    "    def descriptorType(self):\n",
    "        return self.desType"
   ]
  },
  {
   "cell_type": "code",
   "execution_count": 13,
   "metadata": {
    "collapsed": true
   },
   "outputs": [],
   "source": [
    "class BOWKMeansTrainer:\n",
    "    \"\"\"\n",
    "    Using KMeans to cluster descriptors in order to find the representative vocabularies.\n",
    "    # TODO: tolerence\n",
    "    \"\"\"\n",
    "    def __init__(self, k=3, tolerance = 0.5, max_iterations = 10):\n",
    "        self.k = k\n",
    "        self.tolerance = tolerance\n",
    "        self.max_iterations = max_iterations\n",
    "        self.descriptor = []\n",
    "    \n",
    "    def add(self, des):\n",
    "        \"\"\"\n",
    "        add descriptors.\n",
    "        \"\"\"\n",
    "        self.descriptor.extend(des)\n",
    "    \n",
    "    def cluster(self, seed=30):\n",
    "        \"\"\"\n",
    "        Do clustering using kmeans on the descriptors.\n",
    "        ------\n",
    "        return:\n",
    "            The center of each cluster as vocabularies.\n",
    "        \"\"\"\n",
    "        np.random.seed(30)\n",
    "        self.descriptor = np.array(self.descriptor)\n",
    "        \n",
    "        # Choose k centroid\n",
    "        index = np.random.choice(len(self.descriptor), self.k)\n",
    "        centroid = [self.descriptor[idx] for idx in index]\n",
    "        centroid_old = centroid.copy()\n",
    "        for i in range(self.max_iterations):\n",
    "            start = time.time()\n",
    "            # Calculate the Euclidean distance of every points to each centroid.\n",
    "            cls = []\n",
    "            for d in self.descriptor:\n",
    "                distance = [np.sqrt(np.sum((d-c)**2)) for c in centroid]\n",
    "                cls.append(np.argmin(distance))\n",
    "            cls = np.array(cls)\n",
    "            \n",
    "            # compute new centroid using the average of data in same class.\n",
    "            centroid = []\n",
    "            for j in range(self.k):\n",
    "                descriptors = self.descriptor[cls==j]\n",
    "                if not descriptors.any():\n",
    "                    # no points belongs to this group.\n",
    "                    index = np.random.choice(len(self.descriptor), 1)\n",
    "                    centroid.append(self.descriptor[index])\n",
    "                else:\n",
    "                    centroid.append(np.mean(descriptors, axis=0))\n",
    "            \n",
    "            loss = [abs(centroid_old[i] - centroid[i]) for i in range(self.k)]\n",
    "            loss_mean = np.mean(np.array(loss))\n",
    "            end = time.time()\n",
    "            print('It takes', end-start, 'seconds for this iteration. Loss:', loss_mean)\n",
    "            if loss_mean < self.tolerance:\n",
    "                break\n",
    "            centroid_old = centroid.copy()\n",
    "        # return centroid as vocabularies\n",
    "        return np.array(centroid)"
   ]
  },
  {
   "cell_type": "code",
   "execution_count": 14,
   "metadata": {
    "collapsed": true
   },
   "outputs": [],
   "source": [
    "def bow(X_train, X_test, build_voc, k, max_iterations):    \n",
    "    if build_voc:\n",
    "        img_size = 256\n",
    "        X_train = X_train.astype(np.uint8).reshape(X_train.shape[0], img_size, img_size).copy()\n",
    "        X_test = X_test.astype(np.uint8).reshape(X_test.shape[0], img_size, img_size).copy()\n",
    "\n",
    "        detect = cv2.xfeatures2d.SIFT_create()\n",
    "        extract = cv2.xfeatures2d.SIFT_create()\n",
    "\n",
    "        bow_trainer = BOWKMeansTrainer(k=k, max_iterations=max_iterations)\n",
    "        \n",
    "        for x in X_train:\n",
    "            des = extract.compute(x, detect.detect(x))[1]\n",
    "            bow_trainer.add(des)\n",
    "\n",
    "        v = bow_trainer.cluster()\n",
    "        np.save('voc_' + str(k), v)\n",
    "        print('Finish building vocabulary')\n",
    "        \n",
    "        flann_params = dict(algorithm = 1, trees = 5)      # flann enums are missing, FLANN_INDEX_KDTREE=1\n",
    "        matcher = cv2.FlannBasedMatcher(flann_params, {})  # need to pass empty dict (#1329)\n",
    "\n",
    "        bow_extract = BOWImgDescriptorExtractor(extract, matcher)\n",
    "        bow_extract.setVocabulary(v)\n",
    "        train = []\n",
    "        test = []\n",
    "        for x in X_train:\n",
    "            train.append(bow_extract.compute(x, extract.detect(x)))\n",
    "\n",
    "        for x in X_test:\n",
    "            test.append(bow_extract.compute(x, extract.detect(x)))\n",
    "\n",
    "        train = np.array(train)\n",
    "        test = np.array(test)\n",
    "        np.save('train_' + str(k), train)\n",
    "        np.save('test_' + str(k), test)\n",
    "\n",
    "    else:\n",
    "        v = np.load('voc_' + str(k) + '.npy')\n",
    "        train = np.load('train_' + str(k) + '.npy')\n",
    "        test = np.load('test_' + str(k) + '.npy')\n",
    "    \n",
    "    return train, test"
   ]
  },
  {
   "cell_type": "code",
   "execution_count": 15,
   "metadata": {},
   "outputs": [
    {
     "name": "stdout",
     "output_type": "stream",
     "text": [
      "It takes 2.2510342597961426 seconds to load the images.\n",
      "It takes 0.2219688892364502 seconds to load the images.\n",
      "best k: 17 , acc: 49.3333333333\n"
     ]
    },
    {
     "data": {
      "image/png": "[encoded data removed]",
      "text/plain": [
       "<Figure size 432x288 with 1 Axes>"
      ]
     },
     "metadata": {},
     "output_type": "display_data"
    }
   ],
   "source": [
    "resize_small = False\n",
    "X_train, y_train, cls_train = load_imgs('./data/train', resize_small=resize_small)\n",
    "X_test, y_test, cls_test = load_imgs('./data/test', resize_small=resize_small)\n",
    "X_train, X_test = bow(X_train, X_test, build_voc=False, k=256, max_iterations=10)\n",
    "X_train, y_train = shuffle_data(X_train, y_train)\n",
    "\n",
    "get_best_k(X_train, y_train, X_test, y_test)"
   ]
  },
  {
   "cell_type": "code",
   "execution_count": 27,
   "metadata": {
    "scrolled": true
   },
   "outputs": [
    {
     "name": "stdout",
     "output_type": "stream",
     "text": [
      "It takes 2.1159870624542236 seconds to load the images.\n",
      "It takes 0.20113897323608398 seconds to load the images.\n",
      "vocabulary size: 32\n",
      "[local] 1.0 48.7333 (best c=2.0, rate=48.7333)\n",
      "[local] -1.0 49.2667 (best c=0.5, rate=49.2667)\n",
      "[local] 3.0 46.7333 (best c=0.5, rate=49.2667)\n",
      "[local] -2.0 48.5333 (best c=0.5, rate=49.2667)\n",
      "[local] 2.0 47.5333 (best c=0.5, rate=49.2667)\n",
      "[local] 0.0 49.1333 (best c=0.5, rate=49.2667)\n",
      "0.5 49.2667\n",
      "49.2667\n",
      "{'c': 0.5}\n",
      "It takes 2.280978202819824 seconds to load the images.\n",
      "It takes 0.20275187492370605 seconds to load the images.\n",
      "vocabulary size: 64\n",
      "[local] 1.0 52.2667 (best c=2.0, rate=52.2667)\n",
      "[local] -1.0 47.0667 (best c=2.0, rate=52.2667)\n",
      "[local] 3.0 52.6667 (best c=8.0, rate=52.6667)\n",
      "[local] -2.0 43.0 (best c=8.0, rate=52.6667)\n",
      "[local] 2.0 52.8667 (best c=4.0, rate=52.8667)\n",
      "[local] 0.0 50.3333 (best c=4.0, rate=52.8667)\n",
      "4.0 52.8667\n",
      "52.8667\n",
      "{'c': 4.0}\n",
      "It takes 2.2567670345306396 seconds to load the images.\n",
      "It takes 0.21141982078552246 seconds to load the images.\n",
      "vocabulary size: 128\n",
      "[local] 1.0 47.9333 (best c=2.0, rate=47.9333)\n",
      "[local] -1.0 34.6 (best c=2.0, rate=47.9333)\n",
      "[local] 3.0 53.8 (best c=8.0, rate=53.8)\n",
      "[local] -2.0 29.1333 (best c=8.0, rate=53.8)\n",
      "[local] 2.0 51.5333 (best c=8.0, rate=53.8)\n",
      "[local] 0.0 41.7333 (best c=8.0, rate=53.8)\n",
      "8.0 53.8\n",
      "53.8\n",
      "{'c': 8.0}\n",
      "It takes 2.2053680419921875 seconds to load the images.\n",
      "It takes 0.20972990989685059 seconds to load the images.\n",
      "vocabulary size: 256\n",
      "[local] 1.0 33.0 (best c=2.0, rate=33.0)\n",
      "[local] -1.0 22.5333 (best c=2.0, rate=33.0)\n",
      "[local] 3.0 45.3333 (best c=8.0, rate=45.3333)\n",
      "[local] -2.0 21.8 (best c=8.0, rate=45.3333)\n",
      "[local] 2.0 38.7333 (best c=8.0, rate=45.3333)\n",
      "[local] 0.0 27.7333 (best c=8.0, rate=45.3333)\n",
      "8.0 45.3333\n",
      "45.3333\n",
      "{'c': 8.0}\n"
     ]
    }
   ],
   "source": [
    "sys.path.insert(0, \"./libsvm/tools/\")\n",
    "from grid import *\n",
    "\n",
    "resize_small = False\n",
    "ks = [32, 64, 128, 256]\n",
    "best_param = []\n",
    "for k in ks:\n",
    "    X_train, y_train, cls_train = load_imgs('./data/train', resize_small=resize_small)\n",
    "    X_test, y_test, cls_test = load_imgs('./data/test', resize_small=resize_small)\n",
    "    print(\"vocabulary size:\", k)\n",
    "    X_train, X_test = bow(X_train, X_test, build_voc=False, k=k, max_iterations=10)\n",
    "    X_train, y_train = shuffle_data(X_train, y_train)\n",
    "    \n",
    "    transform_format(X_train, y_train, 'train.txt')\n",
    "    transform_format(X_test, y_test, 'test.txt')\n",
    "    \n",
    "    rate, param = find_parameters('./train.txt', '-log2c -2,3,1 -log2g null')\n",
    "    best_param.append(param)\n",
    "    print(rate)\n",
    "    print(param)"
   ]
  },
  {
   "cell_type": "code",
   "execution_count": 28,
   "metadata": {},
   "outputs": [
    {
     "name": "stdout",
     "output_type": "stream",
     "text": [
      "It takes 2.2832648754119873 seconds to load the images.\n",
      "It takes 0.26172304153442383 seconds to load the images.\n",
      "Accuracy = 22.6667% (34/150) (classification)\n",
      "It takes 2.1321022510528564 seconds to load the images.\n",
      "It takes 0.2041606903076172 seconds to load the images.\n",
      "Accuracy = 44% (66/150) (classification)\n",
      "It takes 2.2963569164276123 seconds to load the images.\n",
      "It takes 0.20407605171203613 seconds to load the images.\n",
      "Accuracy = 53.3333% (80/150) (classification)\n",
      "It takes 2.028048276901245 seconds to load the images.\n",
      "It takes 0.20476174354553223 seconds to load the images.\n",
      "Accuracy = 54% (81/150) (classification)\n"
     ]
    }
   ],
   "source": [
    "for param in best_param:\n",
    "    X_train, y_train, cls_train = load_imgs('./data/train', resize_small=resize_small)\n",
    "    X_test, y_test, cls_test = load_imgs('./data/test', resize_small=resize_small)\n",
    "    X_train, X_test = bow(X_train, X_test, build_voc=False, k=k, max_iterations=10)\n",
    "    X_train, y_train = shuffle_data(X_train, y_train)\n",
    "    svm(X_train, y_train, X_test, y_test, \"-t 0 -c \" + str(param['c']))"
   ]
  },
  {
   "cell_type": "code",
   "execution_count": null,
   "metadata": {
    "collapsed": true
   },
   "outputs": [],
   "source": []
  }
 ],
 "metadata": {
  "kernelspec": {
   "display_name": "Python 3",
   "language": "python",
   "name": "python3"
  },
  "language_info": {
   "codemirror_mode": {
    "name": "ipython",
    "version": 3
   },
   "file_extension": ".py",
   "mimetype": "text/x-python",
   "name": "python",
   "nbconvert_exporter": "python",
   "pygments_lexer": "ipython3",
   "version": "3.6.1"
  }
 },
 "nbformat": 4,
 "nbformat_minor": 2
}
